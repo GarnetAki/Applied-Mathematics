{
 "cells": [
  {
   "cell_type": "markdown",
   "metadata": {},
   "source": [
    "# Лабораторная работа № 1 (5)"
   ]
  },
  {
   "cell_type": "code",
   "execution_count": 1,
   "metadata": {
    "collapsed": false,
    "pycharm": {
     "name": "#%%\n"
    }
   },
   "outputs": [],
   "source": [
    "import json\n",
    "import numpy as np\n",
    "from prettytable import PrettyTable\n",
    "import warnings\n",
    "warnings.filterwarnings(\"ignore\")"
   ]
  },
  {
   "cell_type": "markdown",
   "metadata": {},
   "source": [
    "## Парсинг"
   ]
  },
  {
   "cell_type": "markdown",
   "metadata": {},
   "source": [
    "### Реализация"
   ]
  },
  {
   "cell_type": "code",
   "execution_count": 2,
   "metadata": {
    "collapsed": false,
    "pycharm": {
     "name": "#%%\n"
    }
   },
   "outputs": [],
   "source": [
    "class Constraint:\n",
    "\n",
    "    def __init__(self, data) -> None:\n",
    "        super().__init__()\n",
    "        self.coefs = data['coefs']\n",
    "        self.b = data['b']\n",
    "        self.type = data['type']\n",
    "        if self.type == 'eq':\n",
    "            self.function = lambda values: np.sum(np.multiply(self.coefs, values)) == self.b\n",
    "        if self.type == 'leq':\n",
    "            self.function = lambda values: np.sum(np.multiply(self.coefs, values)) <= self.b\n",
    "        if self.type == 'geq':\n",
    "            self.function = lambda values: np.sum(np.multiply(self.coefs, values)) >= self.b\n",
    "\n",
    "\n",
    "    def check(self, values):\n",
    "        return self.function(values)\n",
    "\n",
    "\n",
    "class Task:\n",
    "\n",
    "    def __init__(self, path) -> None:\n",
    "        super().__init__()\n",
    "        data = json.loads(open(path).read())\n",
    "        self.f = data['f']\n",
    "        self.goal = data['goal']\n",
    "        self.constraints = []\n",
    "        self.was_goal_changed = False\n",
    "        self.first_step_f = np.zeros(len(self.f))\n",
    "        self.artificial_indexes = []\n",
    "        for constraint in data['constraints']:\n",
    "            self.constraints.append(Constraint(constraint))\n",
    "\n",
    "\n",
    "    def get_column(self, x):\n",
    "        column = []\n",
    "        for i in self.constraints:\n",
    "            column.append(i.coefs[x])\n",
    "        return column\n",
    "\n",
    "\n",
    "    def check_constraints(self, values):\n",
    "        flag = True\n",
    "        for constraint in self.constraints:\n",
    "            flag &= constraint.check(values)\n",
    "\n",
    "        return flag\n",
    "\n",
    "\n",
    "    def evaluate(self, values):\n",
    "        return np.sum(np.multiply(self.f, values))\n",
    "    \n",
    "\n",
    "    def show_task(self):\n",
    "        print(\"Task:\")\n",
    "        string = ''\n",
    "        was_shown = False\n",
    "        for i in range(len(self.f)):\n",
    "            if self.f[i] > 0:\n",
    "                if (i != 0) and was_shown:\n",
    "                    string += ' + '\n",
    "                string += str(self.f[i]) + ' * X_' + str(i + 1)\n",
    "                was_shown = True\n",
    "            elif self.f[i] < 0:\n",
    "                if (i != 0) and was_shown:\n",
    "                    string += ' '\n",
    "                string += str(self.f[i]) + ' * X_' + str(i + 1)\n",
    "                was_shown = True\n",
    "        string += ' -> ' + self.goal\n",
    "        print(string)\n",
    "\n",
    "\n",
    "    def show_constraints(self):\n",
    "        print(\"Constraints:\")\n",
    "        for i in self.constraints:\n",
    "            string = ''\n",
    "            was_shown = False\n",
    "            for j in range(len(i.coefs)):\n",
    "                if i.coefs[j] > 0:\n",
    "                    if (j != 0) and was_shown:\n",
    "                        string += ' + '\n",
    "                    string += str(i.coefs[j]) + ' * X_' + str(j + 1)\n",
    "                    was_shown = True\n",
    "                elif i.coefs[j] < 0:\n",
    "                    if (j != 0) and was_shown:\n",
    "                        string += ' '\n",
    "                    string += str(i.coefs[j]) + ' * X_' + str(j + 1)\n",
    "                    was_shown = True\n",
    "            if i.type == 'leq':\n",
    "                string += ' <= ' + str(i.b)\n",
    "            elif i.type == 'geq':\n",
    "                string += ' >= ' + str(i.b)\n",
    "            else:\n",
    "                string += ' = ' + str(i.b)\n",
    "            print(string)"
   ]
  },
  {
   "cell_type": "markdown",
   "metadata": {},
   "source": [
    "### Визуализация"
   ]
  },
  {
   "cell_type": "code",
   "execution_count": 3,
   "metadata": {},
   "outputs": [
    {
     "name": "stdout",
     "output_type": "stream",
     "text": [
      "Task:\n",
      "5000 * X_1 + 2500 * X_2 -> max\n",
      "Constraints:\n",
      "4 * X_1 + 1.5 * X_2 <= 24\n",
      "1200 * X_1 + 150 * X_2 <= 6000\n",
      "20 * X_1 + 20 * X_2 <= 200\n",
      "1 * X_1 >= 2\n"
     ]
    }
   ],
   "source": [
    "task = Task('example3.json')\n",
    "task.show_task()\n",
    "task.show_constraints()"
   ]
  },
  {
   "cell_type": "markdown",
   "metadata": {},
   "source": [
    "## Приведение к канонической форме"
   ]
  },
  {
   "cell_type": "markdown",
   "metadata": {},
   "source": [
    "### Реализация"
   ]
  },
  {
   "cell_type": "code",
   "execution_count": 4,
   "metadata": {},
   "outputs": [],
   "source": [
    "def make_canonical_form(task):\n",
    "    if task.goal == \"min\":\n",
    "        task.f = np.multiply(task.f, -1)\n",
    "        task.goal = \"max\"\n",
    "        task.was_goal_changed = True\n",
    "\n",
    "    auxiliary_ind = 0\n",
    "    m = len(task.constraints)\n",
    "    n = len(task.f)\n",
    "\n",
    "    for constraint in task.constraints:\n",
    "        if constraint.type == \"geq\":\n",
    "            constraint.coefs = np.concatenate([constraint.coefs, np.zeros(auxiliary_ind), [-1]])\n",
    "            constraint.function = lambda values: np.sum(np.multiply(constraint.coefs, values)) == constraint.b\n",
    "            constraint.type = \"eq\"\n",
    "            auxiliary_ind += 1\n",
    "        if constraint.type == \"leq\":\n",
    "            constraint.coefs = np.concatenate([constraint.coefs, np.zeros(auxiliary_ind), [1]])\n",
    "            constraint.function = lambda values: np.sum(np.multiply(constraint.coefs, values)) == constraint.b\n",
    "            constraint.type = \"eq\"\n",
    "            auxiliary_ind += 1\n",
    "\n",
    "    for constraint in task.constraints:\n",
    "        constraint.coefs = np.concatenate([constraint.coefs, np.zeros(auxiliary_ind+n-len(constraint.coefs))])\n",
    "        if constraint.b < 0:\n",
    "            constraint.coefs = np.multiply(constraint.coefs, -1)\n",
    "            constraint.b = np.multiply(constraint.b, -1)\n",
    "    \n",
    "    n = len(task.f) + auxiliary_ind\n",
    "    task.first_step_f = np.concatenate([task.first_step_f, np.zeros(auxiliary_ind)])\n",
    "    \n",
    "    for i in range(m):\n",
    "        need_basis_column = True\n",
    "        for j in range(n):\n",
    "            tmp = task.get_column(j)\n",
    "            if tmp[i] == 1 and tmp.count(0) == m - 1 and need_basis_column:\n",
    "                need_basis_column = False\n",
    "        if need_basis_column:\n",
    "            for j in range(m):\n",
    "                if j == i:\n",
    "                    task.constraints[j].coefs = np.concatenate([task.constraints[j].coefs, [1]])\n",
    "                else:\n",
    "                    task.constraints[j].coefs = np.concatenate([task.constraints[j].coefs, [0]])\n",
    "                constraint.function = lambda values: np.sum(np.multiply(constraint.coefs, values)) == constraint.b\n",
    "            \n",
    "            task.first_step_f = np.concatenate([task.first_step_f, [1]])\n",
    "            task.artificial_indexes.append(len(task.f) + auxiliary_ind)\n",
    "            auxiliary_ind += 1\n",
    "\n",
    "    task.f = np.concatenate([task.f, np.zeros(auxiliary_ind)])"
   ]
  },
  {
   "cell_type": "markdown",
   "metadata": {},
   "source": [
    "### Визуализация"
   ]
  },
  {
   "cell_type": "code",
   "execution_count": 5,
   "metadata": {},
   "outputs": [
    {
     "name": "stdout",
     "output_type": "stream",
     "text": [
      "Task:\n",
      "5000.0 * X_1 + 2500.0 * X_2 -> max\n",
      "Constraints:\n",
      "4.0 * X_1 + 1.5 * X_2 + 1.0 * X_3 = 24\n",
      "1200.0 * X_1 + 150.0 * X_2 + 1.0 * X_4 = 6000\n",
      "20.0 * X_1 + 20.0 * X_2 + 1.0 * X_5 = 200\n",
      "1.0 * X_1 -1.0 * X_6 + 1.0 * X_7 = 2\n"
     ]
    }
   ],
   "source": [
    "make_canonical_form(task)\n",
    "task.show_task()\n",
    "task.show_constraints()"
   ]
  },
  {
   "cell_type": "markdown",
   "metadata": {},
   "source": [
    "## Двухфазный симплекс-метод"
   ]
  },
  {
   "cell_type": "markdown",
   "metadata": {},
   "source": [
    "### Реализация"
   ]
  },
  {
   "cell_type": "code",
   "execution_count": 6,
   "metadata": {
    "collapsed": false,
    "pycharm": {
     "name": "#%%\n"
    }
   },
   "outputs": [],
   "source": [
    "class SimplexTable():\n",
    "\n",
    "    def __init__(self, task) -> None:\n",
    "        self.m = len(task.constraints) + 1\n",
    "        self.n = len(task.f) + 1\n",
    "        self.table = np.zeros([self.m, self.n])\n",
    "        self.blocked_columns = task.artificial_indexes\n",
    "        self.basis = []\n",
    "        self.second_phase_f = task.f\n",
    "        self.was_reversed = task.was_goal_changed\n",
    "        self.answer_exists = 1\n",
    "        self.print_precision = 2\n",
    "        for i in range(self.m):\n",
    "            if i == self.m - 1:\n",
    "                self.table[i, 0] = 0\n",
    "                for j in range(1, self.n):\n",
    "                    self.table[i, j] = task.first_step_f[j - 1]\n",
    "            else:\n",
    "                for j in range(self.n):\n",
    "                    if j == 0:\n",
    "                        self.table[i, j] = task.constraints[i].b\n",
    "                    else:\n",
    "                        self.table[i, j] = task.constraints[i].coefs[j - 1]\n",
    "            \n",
    "            if i < self.m - 1:\n",
    "                need_basis_column = True\n",
    "                for j in range(1, self.n):\n",
    "                    tmp = task.get_column(j - 1)\n",
    "                    if tmp[i] == 1 and tmp.count(0) == self.m - 2 and need_basis_column:\n",
    "                        need_basis_column = False\n",
    "                        self.basis.append(j - 1)\n",
    "                  \n",
    "\n",
    "    def first_phase(self):\n",
    "        if len(self.blocked_columns) == 0:\n",
    "            return self.table\n",
    "        \n",
    "        for k in self.blocked_columns:\n",
    "            main_column = k + 1\n",
    "            main_row = self.find_row(main_column)\n",
    "\n",
    "            self.basis[main_row] = main_column - 1\n",
    "            new_table = np.zeros([self.m, self.n])\n",
    "\n",
    "            for i in range(self.n):\n",
    "                new_table[main_row, i] = self.table[main_row, i] / self.table[main_row, main_column]\n",
    "\n",
    "            for i in range(self.m):\n",
    "                if i == main_row:\n",
    "                    continue\n",
    "\n",
    "                for j in range(self.n):\n",
    "                    new_table[i, j] = self.table[i, j] - self.table[i, main_column] * new_table[main_row, j]\n",
    "\n",
    "            self.table = new_table\n",
    "\n",
    "        while self.end(False):\n",
    "            main_column = self.find_column(True, False)\n",
    "            main_row = self.find_row(main_column)\n",
    "\n",
    "            self.basis[main_row] = main_column - 1\n",
    "            new_table = np.zeros([self.m, self.n])\n",
    "\n",
    "            for i in range(self.n):\n",
    "                new_table[main_row, i] = self.table[main_row, i] / self.table[main_row, main_column]\n",
    "\n",
    "            for i in range(self.m):\n",
    "                if i == main_row:\n",
    "                    continue\n",
    "\n",
    "                for j in range(self.n):\n",
    "                    new_table[i, j] = self.table[i, j] - self.table[i, main_column] * new_table[main_row, j]\n",
    "\n",
    "            self.table = new_table\n",
    "\n",
    "        return self.table\n",
    "\n",
    "\n",
    "    def second_phase(self):\n",
    "        self.next_phase()\n",
    "        answer_w = 0\n",
    "        for i in self.blocked_columns:\n",
    "            answer_w += self.variable_result()[i]\n",
    "\n",
    "        if answer_w != 0:\n",
    "            self.answer_exists = 0\n",
    "        else:\n",
    "            while self.end(True):\n",
    "                main_column = self.find_column(False, True)\n",
    "                main_row = self.find_row(main_column)\n",
    "                \n",
    "                if main_column - 1 == self.basis[main_row] or self.answer_exists == 2:\n",
    "                    break\n",
    "                \n",
    "                self.basis[main_row] = main_column - 1\n",
    "                new_table = np.zeros([self.m, self.n])\n",
    "\n",
    "                for i in range(self.n):\n",
    "                    new_table[main_row, i] = self.table[main_row, i] / self.table[main_row, main_column]\n",
    "\n",
    "                for i in range(self.m):\n",
    "                    if i == main_row:\n",
    "                        continue\n",
    "\n",
    "                    for j in range(self.n):\n",
    "                        new_table[i, j] = self.table[i, j] - self.table[i, main_column] * new_table[main_row, j]\n",
    "                    \n",
    "                new_table[self.m - 1, 0] = 0\n",
    "                for i in range(self.m - 1):\n",
    "                    new_table[self.m - 1, 0] += new_table[i, 0] * self.second_phase_f[self.basis[i]]\n",
    "\n",
    "                self.table = new_table\n",
    "\n",
    "        return self.table\n",
    "\n",
    "\n",
    "    def next_phase(self):\n",
    "        for i in range(1, self.n):\n",
    "            self.table[self.m - 1, i] = 0\n",
    "\n",
    "        for i in range(1, self.n):\n",
    "            if self.second_phase_f[i - 1] != 0:\n",
    "                if not i - 1 in self.basis:\n",
    "                    self.table[self.m - 1, i] += self.second_phase_f[i - 1]\n",
    "                else:\n",
    "                    for j in range(1, self.n):\n",
    "                        if j != i and self.table[self.basis.index(i - 1), j] != 0:\n",
    "                            self.table[self.m - 1, j] -= self.second_phase_f[i - 1] * self.table[self.basis.index(i - 1), j]\n",
    "\n",
    "        self.table[self.m - 1, 0] = 0\n",
    "        for i in range(self.m - 1):\n",
    "            self.table[self.m - 1, 0] += self.table[i, 0] * self.second_phase_f[self.basis[i]]\n",
    "\n",
    "\n",
    "    def end(self, search_max):\n",
    "        flag = False\n",
    "        if search_max:\n",
    "            for i in range(1, self.n):\n",
    "                if self.table[self.m - 1, i] > 0:\n",
    "                    flag = True\n",
    "                    break\n",
    "        else:\n",
    "            for i in range(1, self.n):\n",
    "                if self.table[self.m - 1, i] < 0:\n",
    "                    flag = True\n",
    "                    break\n",
    "        \n",
    "        return flag\n",
    "\n",
    "\n",
    "    def find_column(self, first_phase, search_max):\n",
    "        for i in range(1, self.n):\n",
    "            if first_phase or i - 1 not in self.blocked_columns:\n",
    "                main_column = i\n",
    "                break\n",
    "\n",
    "        if search_max:\n",
    "            for i in range(main_column, self.n):\n",
    "                if (first_phase or i - 1 not in self.blocked_columns) and self.table[self.m - 1, i] > self.table[self.m - 1, main_column]:\n",
    "                    main_column = i\n",
    "        else:\n",
    "            for i in range(main_column, self.n):\n",
    "                if (first_phase or i - 1 not in self.blocked_columns) and self.table[self.m - 1, i] < self.table[self.m - 1, main_column]:              \n",
    "                    main_column = i\n",
    "\n",
    "        return main_column\n",
    "\n",
    "\n",
    "    def find_row(self, main_column):\n",
    "        main_row = 0\n",
    "        for i in range(self.m - 1):\n",
    "            if self.table[i, main_column] > 0:\n",
    "                main_row = i\n",
    "                break\n",
    "\n",
    "        for i in range(main_row + 1, self.m - 1):\n",
    "            if self.table[i, main_column] > 0 and (self.table[i, 0] / self.table[i, main_column] < self.table[main_row, 0] / self.table[main_row, main_column]):\n",
    "                main_row = i\n",
    "\n",
    "        if main_row == 0 and self.table[main_row, main_column] <= 0:\n",
    "            self.answer_exists = 2\n",
    "\n",
    "        return main_row\n",
    "    \n",
    "\n",
    "    def check_inf_answers(self):\n",
    "        coefs_f = self.second_phase_f\n",
    "        coefs = np.zeros(len(coefs_f))\n",
    "        for i in range(len(coefs_f)):\n",
    "            coefs[i] = coefs_f[i]\n",
    "\n",
    "        for i in range(len(self.basis)):\n",
    "            base = self.basis[i]\n",
    "            for j in range(1, self.n):\n",
    "                if j - 1 != base:\n",
    "                    coefs[j - 1] -= self.table[i, j] * coefs_f[base]\n",
    "                    \n",
    "        for i in range(len(coefs_f)):\n",
    "            if i not in self.basis and coefs[i] == 0 and i not in self.blocked_columns:\n",
    "                self.answer_exists = 3\n",
    "\n",
    "\n",
    "    \n",
    "    def variable_result(self):\n",
    "        result = []\n",
    "        for i in range(1, self.n):\n",
    "            if i - 1 in self.basis:\n",
    "                result.append(self.table[self.basis.index(i - 1), 0])\n",
    "            else:\n",
    "                result.append(0)\n",
    "        return result\n",
    "\n",
    "\n",
    "    def print_simplex_table(self):  \n",
    "        x = PrettyTable()\n",
    "        names = ['Basis', 'b']\n",
    "        for i in range(1, self.n):\n",
    "            names.append(str(i))\n",
    "\n",
    "        x.field_names = names\n",
    "\n",
    "        for i in range(self.m):\n",
    "            if i == self.m - 1:\n",
    "                row = ['C']\n",
    "            else:\n",
    "                row = [self.basis[i] + 1]\n",
    "            \n",
    "            for j in range(0, self.n):\n",
    "                row.append(round(self.table[i, j], self.print_precision))\n",
    "            x.add_row(row)\n",
    "\n",
    "        answer = np.sum(self.second_phase_f * self.variable_result())\n",
    "        row = [answer, 'f']\n",
    "        for j in range(1, self.n):\n",
    "            row.append(self.second_phase_f[j - 1])\n",
    "        x.add_row(row)\n",
    "\n",
    "        answer_w = 0\n",
    "        for i in self.blocked_columns:\n",
    "            answer_w += self.variable_result()[i]\n",
    "        row = [answer_w, 'f\\'']\n",
    "        for j in range(1, self.n):\n",
    "            if j - 1 in self.blocked_columns:\n",
    "                row.append(1)\n",
    "            else:\n",
    "                row.append(0)\n",
    "\n",
    "        x.add_row(row)\n",
    "\n",
    "        print(x)\n",
    "\n",
    "\n",
    "    def print_result(self):\n",
    "        if self.answer_exists == 1:\n",
    "            self.check_inf_answers()\n",
    "            \n",
    "        print('Result:')\n",
    "        if self.answer_exists == 1:\n",
    "            variables = self.variable_result()\n",
    "            string = ''\n",
    "            for i in range(1, self.n):\n",
    "                if i != 1:\n",
    "                    string += ', '\n",
    "                string += 'X_' + str(i) + ' = ' + str(round(variables[i - 1], self.print_precision))\n",
    "\n",
    "            print(string)\n",
    "            if self.was_reversed:\n",
    "                print('f = ' + str(round(-1 * self.table[self.m - 1, 0], self.print_precision)))\n",
    "            else:\n",
    "                print('f = ' + str(round(self.table[self.m - 1, 0], self.print_precision)))\n",
    "            \n",
    "        elif self.answer_exists == 0:\n",
    "            print('Answer does not exist')\n",
    "\n",
    "        elif self.answer_exists == 2:\n",
    "            print('Function is unbordered')   \n",
    "            print('f = inf')\n",
    "                    \n",
    "        else:\n",
    "            print('Infinity amount of answers. One of them:')\n",
    "            inf_flag = False\n",
    "            variables = self.variable_result()\n",
    "            string = ''\n",
    "            for i in range(1, self.n):\n",
    "                if i != 1:\n",
    "                    string += ', '\n",
    "                if variables[i - 1] == float(\"inf\") and (not inf_flag) and self.second_phase_f[i - 1] != 0:\n",
    "                    inf_flag = True\n",
    "                    inf_ind = i - 1\n",
    "                string += 'X_' + str(i) + ' = ' + str(round(variables[i - 1], self.print_precision))\n",
    "            print(string)\n",
    "\n",
    "            if inf_flag:\n",
    "                coef = self.second_phase_f[inf_ind]\n",
    "                if self.was_reversed == (coef > 0):\n",
    "                    print('f = -inf')\n",
    "                else:\n",
    "                    print('f = inf')\n",
    "            else:\n",
    "                if self.was_reversed:\n",
    "                    print('f = ' + str(round(-1 * self.table[self.m - 1, 0], self.print_precision)))\n",
    "                else:\n",
    "                    print('f = ' + str(round(self.table[self.m - 1, 0], self.print_precision)))"
   ]
  },
  {
   "cell_type": "markdown",
   "metadata": {
    "collapsed": false,
    "pycharm": {
     "name": "#%% md\n"
    }
   },
   "source": [
    "### Визуализация"
   ]
  },
  {
   "cell_type": "code",
   "execution_count": 7,
   "metadata": {
    "collapsed": false,
    "pycharm": {
     "name": "#%%\n"
    }
   },
   "outputs": [
    {
     "name": "stdout",
     "output_type": "stream",
     "text": [
      "Before 1 phase:\n",
      "+-------+--------+--------+--------+-----+-----+-----+------+-----+\n",
      "| Basis |   b    |   1    |   2    |  3  |  4  |  5  |  6   |  7  |\n",
      "+-------+--------+--------+--------+-----+-----+-----+------+-----+\n",
      "|   3   |  24.0  |  4.0   |  1.5   | 1.0 | 0.0 | 0.0 | 0.0  | 0.0 |\n",
      "|   4   | 6000.0 | 1200.0 | 150.0  | 0.0 | 1.0 | 0.0 | 0.0  | 0.0 |\n",
      "|   5   | 200.0  |  20.0  |  20.0  | 0.0 | 0.0 | 1.0 | 0.0  | 0.0 |\n",
      "|   7   |  2.0   |  1.0   |  0.0   | 0.0 | 0.0 | 0.0 | -1.0 | 1.0 |\n",
      "|   C   |  0.0   |  0.0   |  0.0   | 0.0 | 0.0 | 0.0 | 0.0  | 1.0 |\n",
      "|  0.0  |   f    | 5000.0 | 2500.0 | 0.0 | 0.0 | 0.0 | 0.0  | 0.0 |\n",
      "|  2.0  |   f'   |   0    |   0    |  0  |  0  |  0  |  0   |  1  |\n",
      "+-------+--------+--------+--------+-----+-----+-----+------+-----+\n",
      "Between phases:\n",
      "+---------+--------+--------+--------+-----+-----+-----+--------+---------+\n",
      "|  Basis  |   b    |   1    |   2    |  3  |  4  |  5  |   6    |    7    |\n",
      "+---------+--------+--------+--------+-----+-----+-----+--------+---------+\n",
      "|    3    |  16.0  |  0.0   |  1.5   | 1.0 | 0.0 | 0.0 |  4.0   |   -4.0  |\n",
      "|    4    | 3600.0 |  0.0   | 150.0  | 0.0 | 1.0 | 0.0 | 1200.0 | -1200.0 |\n",
      "|    5    | 160.0  |  0.0   |  20.0  | 0.0 | 0.0 | 1.0 |  20.0  |  -20.0  |\n",
      "|    1    |  2.0   |  1.0   |  0.0   | 0.0 | 0.0 | 0.0 |  -1.0  |   1.0   |\n",
      "|    C    |  0.0   |  0.0   |  0.0   | 0.0 | 0.0 | 0.0 |  0.0   |   1.0   |\n",
      "| 10000.0 |   f    | 5000.0 | 2500.0 | 0.0 | 0.0 | 0.0 |  0.0   |   0.0   |\n",
      "|    0    |   f'   |   0    |   0    |  0  |  0  |  0  |   0    |    1    |\n",
      "+---------+--------+--------+--------+-----+-----+-----+--------+---------+\n",
      "After 2 phase:\n",
      "+---------+---------+--------+--------+---------+-----+-------+-----+------+\n",
      "|  Basis  |    b    |   1    |   2    |    3    |  4  |   5   |  6  |  7   |\n",
      "+---------+---------+--------+--------+---------+-----+-------+-----+------+\n",
      "|    2    |   6.4   |  0.0   |  1.0   |   -0.4  | 0.0 |  0.08 | 0.0 | 0.0  |\n",
      "|    6    |   1.6   |  0.0   |  0.0   |   0.4   | 0.0 | -0.03 | 1.0 | -1.0 |\n",
      "|    4    |  720.0  |  0.0   |  0.0   |  -420.0 | 1.0 |  24.0 | 0.0 | 0.0  |\n",
      "|    1    |   3.6   |  1.0   |  0.0   |   0.4   | 0.0 | -0.03 | 0.0 | 0.0  |\n",
      "|    C    | 34000.0 |  0.0   |  0.0   | -1000.0 | 0.0 | -50.0 | 0.0 | 0.0  |\n",
      "| 34000.0 |    f    | 5000.0 | 2500.0 |   0.0   | 0.0 |  0.0  | 0.0 | 0.0  |\n",
      "|    0    |    f'   |   0    |   0    |    0    |  0  |   0   |  0  |  1   |\n",
      "+---------+---------+--------+--------+---------+-----+-------+-----+------+\n"
     ]
    }
   ],
   "source": [
    "simplex_table = SimplexTable(task)\n",
    "print(\"Before 1 phase:\")\n",
    "simplex_table.print_simplex_table()\n",
    "simplex_table.first_phase()\n",
    "print(\"Between phases:\")\n",
    "simplex_table.print_simplex_table()\n",
    "simplex_table.second_phase()\n",
    "print(\"After 2 phase:\")\n",
    "simplex_table.print_simplex_table()"
   ]
  },
  {
   "cell_type": "markdown",
   "metadata": {
    "collapsed": false,
    "pycharm": {
     "name": "#%% md\n"
    }
   },
   "source": [
    "## Тесты"
   ]
  },
  {
   "cell_type": "markdown",
   "metadata": {
    "collapsed": false,
    "pycharm": {
     "name": "#%% md\n"
    }
   },
   "source": [
    "### Тест 1"
   ]
  },
  {
   "cell_type": "code",
   "execution_count": 8,
   "metadata": {
    "collapsed": false,
    "pycharm": {
     "name": "#%%\n"
    }
   },
   "outputs": [
    {
     "name": "stdout",
     "output_type": "stream",
     "text": [
      "Task:\n",
      "1 * X_1 + 2 * X_2 + 3 * X_3 -> max\n",
      "Constraints:\n",
      "1 * X_1 <= 1\n",
      "1 * X_1 + 1 * X_2 >= -2\n",
      "1 * X_1 + 1 * X_2 + 1 * X_3 = 3\n",
      "Result:\n",
      "X_1 = 0, X_2 = 0, X_3 = 3.0, X_4 = 1.0, X_5 = 2.0\n",
      "f = 9.0\n"
     ]
    }
   ],
   "source": [
    "task1 = Task('example.json')\n",
    "task1.show_task()\n",
    "task1.show_constraints()\n",
    "make_canonical_form(task1)\n",
    "simplex_table1 = SimplexTable(task1)\n",
    "simplex_table1.first_phase()\n",
    "simplex_table1.second_phase()\n",
    "simplex_table1.print_result()"
   ]
  },
  {
   "cell_type": "markdown",
   "metadata": {
    "collapsed": false,
    "pycharm": {
     "name": "#%% md\n"
    }
   },
   "source": [
    "### Тест 2"
   ]
  },
  {
   "cell_type": "code",
   "execution_count": 9,
   "metadata": {
    "collapsed": false,
    "pycharm": {
     "name": "#%%\n"
    }
   },
   "outputs": [
    {
     "name": "stdout",
     "output_type": "stream",
     "text": [
      "Task:\n",
      "6 * X_1 + 5 * X_2 -> max\n",
      "Constraints:\n",
      "-3 * X_1 + 5 * X_2 <= 25\n",
      "-2 * X_1 + 5 * X_2 <= 30\n",
      "1 * X_1 <= 10\n",
      "3 * X_1 -8 * X_2 <= 6\n",
      "Result:\n",
      "X_1 = 10.0, X_2 = 10.0, X_3 = 5.0, X_4 = 0, X_5 = 0, X_6 = 56.0\n",
      "f = 110.0\n"
     ]
    }
   ],
   "source": [
    "task2 = Task('example2.json')\n",
    "task2.show_task()\n",
    "task2.show_constraints()\n",
    "make_canonical_form(task2)\n",
    "simplex_table2 = SimplexTable(task2)\n",
    "simplex_table2.first_phase()\n",
    "simplex_table2.second_phase()\n",
    "simplex_table2.print_result()"
   ]
  },
  {
   "cell_type": "markdown",
   "metadata": {
    "collapsed": false,
    "pycharm": {
     "name": "#%% md\n"
    }
   },
   "source": [
    "### Тест 3"
   ]
  },
  {
   "cell_type": "code",
   "execution_count": 10,
   "metadata": {
    "collapsed": false,
    "pycharm": {
     "name": "#%%\n"
    }
   },
   "outputs": [
    {
     "name": "stdout",
     "output_type": "stream",
     "text": [
      "Task:\n",
      "5000 * X_1 + 2500 * X_2 -> max\n",
      "Constraints:\n",
      "4 * X_1 + 1.5 * X_2 <= 24\n",
      "1200 * X_1 + 150 * X_2 <= 6000\n",
      "20 * X_1 + 20 * X_2 <= 200\n",
      "1 * X_1 >= 2\n",
      "Result:\n",
      "X_1 = 3.6, X_2 = 6.4, X_3 = 0, X_4 = 720.0, X_5 = 0, X_6 = 1.6, X_7 = 0\n",
      "f = 34000.0\n"
     ]
    }
   ],
   "source": [
    "task3 = Task('example3.json')\n",
    "task3.show_task()\n",
    "task3.show_constraints()\n",
    "make_canonical_form(task3)\n",
    "simplex_table3 = SimplexTable(task3)\n",
    "simplex_table3.first_phase()\n",
    "simplex_table3.second_phase()\n",
    "simplex_table3.print_result()"
   ]
  },
  {
   "cell_type": "markdown",
   "metadata": {
    "collapsed": false,
    "pycharm": {
     "name": "#%% md\n"
    }
   },
   "source": [
    "### Тест 4"
   ]
  },
  {
   "cell_type": "code",
   "execution_count": 11,
   "metadata": {
    "collapsed": false,
    "pycharm": {
     "name": "#%%\n"
    }
   },
   "outputs": [
    {
     "name": "stdout",
     "output_type": "stream",
     "text": [
      "Task:\n",
      "1 * X_1 + 1 * X_2 -> max\n",
      "Constraints:\n",
      "2 * X_1 + 1 * X_2 <= 4\n",
      "1 * X_1 + 2 * X_2 >= 3\n",
      "Result:\n",
      "X_1 = 0, X_2 = 4.0, X_3 = 0, X_4 = 5.0, X_5 = 0\n",
      "f = 4.0\n"
     ]
    }
   ],
   "source": [
    "task4 = Task('example4.json')\n",
    "task4.show_task()\n",
    "task4.show_constraints()\n",
    "make_canonical_form(task4)\n",
    "simplex_table4 = SimplexTable(task4)\n",
    "simplex_table4.first_phase()\n",
    "simplex_table4.second_phase()\n",
    "simplex_table4.print_result()"
   ]
  },
  {
   "cell_type": "markdown",
   "metadata": {
    "collapsed": false,
    "pycharm": {
     "name": "#%% md\n"
    }
   },
   "source": [
    "### Тест 5"
   ]
  },
  {
   "cell_type": "code",
   "execution_count": 12,
   "metadata": {
    "collapsed": false,
    "pycharm": {
     "name": "#%%\n"
    }
   },
   "outputs": [
    {
     "name": "stdout",
     "output_type": "stream",
     "text": [
      "Task:\n",
      "1 * X_4 -1 * X_5 -> min\n",
      "Constraints:\n",
      "1 * X_1 + 1 * X_4 -2 * X_5 = 1\n",
      "-2 * X_4 + 1 * X_5 = 2\n",
      "1 * X_3 + 3 * X_4 + 1 * X_5 = 3\n",
      "Result:\n",
      "Infinity amount of answers. One of them:\n",
      "X_1 = 5.6, X_2 = 0, X_3 = 0, X_4 = 0.2, X_5 = 2.4, X_6 = 0\n",
      "f = -2.2\n"
     ]
    }
   ],
   "source": [
    "task5 = Task('example5.json')\n",
    "task5.show_task()\n",
    "task5.show_constraints()\n",
    "make_canonical_form(task5)\n",
    "simplex_table5 = SimplexTable(task5)\n",
    "simplex_table5.first_phase()\n",
    "simplex_table5.second_phase()\n",
    "simplex_table5.print_result()\n",
    "\n",
    "#28/5, 0, 0, 1/5, 12/5"
   ]
  },
  {
   "cell_type": "markdown",
   "metadata": {
    "collapsed": false,
    "pycharm": {
     "name": "#%% md\n"
    }
   },
   "source": [
    "### Тест 6"
   ]
  },
  {
   "cell_type": "code",
   "execution_count": 13,
   "metadata": {
    "collapsed": false,
    "pycharm": {
     "name": "#%%\n"
    }
   },
   "outputs": [
    {
     "name": "stdout",
     "output_type": "stream",
     "text": [
      "Task:\n",
      "1 * X_1 + 2 * X_2 + 3 * X_3 -> min\n",
      "Constraints:\n",
      "2 * X_1 + 2 * X_2 + 2 * X_3 <= 5\n",
      "1 * X_1 + 3 * X_3 >= 20\n",
      "3 * X_1 + 2 * X_2 >= 100\n",
      "Result:\n",
      "Answer does not exist\n"
     ]
    }
   ],
   "source": [
    "task6 = Task('example6.json')\n",
    "task6.show_task()\n",
    "task6.show_constraints()\n",
    "make_canonical_form(task6)\n",
    "simplex_table6 = SimplexTable(task6)\n",
    "simplex_table6.first_phase()\n",
    "simplex_table6.second_phase()\n",
    "simplex_table6.print_result()"
   ]
  },
  {
   "cell_type": "markdown",
   "metadata": {
    "collapsed": false,
    "pycharm": {
     "name": "#%% md\n"
    }
   },
   "source": [
    "### Тест 7"
   ]
  },
  {
   "cell_type": "code",
   "execution_count": 14,
   "metadata": {
    "collapsed": false,
    "pycharm": {
     "name": "#%%\n"
    }
   },
   "outputs": [
    {
     "name": "stdout",
     "output_type": "stream",
     "text": [
      "Task:\n",
      "1 * X_1 + 2 * X_2 -> max\n",
      "Constraints:\n",
      "3 * X_1 = 3\n",
      "1 * X_1 + 2 * X_2 >= 5\n",
      "Result:\n",
      "Function is unbordered\n",
      "f = inf\n"
     ]
    }
   ],
   "source": [
    "task7 = Task('example7.json')\n",
    "task7.show_task()\n",
    "task7.show_constraints()\n",
    "make_canonical_form(task7)\n",
    "simplex_table7 = SimplexTable(task7)\n",
    "simplex_table7.first_phase()\n",
    "simplex_table7.second_phase()\n",
    "simplex_table7.print_result()"
   ]
  },
  {
   "cell_type": "markdown",
   "metadata": {
    "collapsed": false,
    "pycharm": {
     "name": "#%% md\n"
    }
   },
   "source": [
    "### Тест 8"
   ]
  },
  {
   "cell_type": "code",
   "execution_count": 15,
   "metadata": {
    "collapsed": false,
    "pycharm": {
     "name": "#%%\n"
    }
   },
   "outputs": [
    {
     "name": "stdout",
     "output_type": "stream",
     "text": [
      "Task:\n",
      "1 * X_1 + 1 * X_2 + 2 * X_3 + 2 * X_4 -> max\n",
      "Constraints:\n",
      "3 * X_1 + 3 * X_2 = 6\n",
      "4 * X_3 + 4 * X_4 >= 8\n",
      "2 * X_3 + 2 * X_4 <= 8\n",
      "Result:\n",
      "Infinity amount of answers. One of them:\n",
      "X_1 = 2.0, X_2 = 0, X_3 = 4.0, X_4 = 0, X_5 = 8.0, X_6 = 0, X_7 = 0, X_8 = 0\n",
      "f = 10.0\n"
     ]
    }
   ],
   "source": [
    "task8 = Task('example8.json')\n",
    "task8.show_task()\n",
    "task8.show_constraints()\n",
    "make_canonical_form(task8)\n",
    "simplex_table8 = SimplexTable(task8)\n",
    "simplex_table8.first_phase()\n",
    "simplex_table8.second_phase()\n",
    "simplex_table8.print_result()"
   ]
  },
  {
   "cell_type": "markdown",
   "metadata": {},
   "source": [
    "### Тест 9"
   ]
  },
  {
   "cell_type": "code",
   "execution_count": 16,
   "metadata": {
    "collapsed": false,
    "pycharm": {
     "name": "#%%\n"
    }
   },
   "outputs": [
    {
     "name": "stdout",
     "output_type": "stream",
     "text": [
      "Task:\n",
      "1 * X_1 + 1 * X_2 + 2 * X_3 + 2 * X_4 -> max\n",
      "Constraints:\n",
      "3 * X_1 + 3 * X_2 >= 6\n",
      "4 * X_3 + 4 * X_4 >= 8\n",
      "2 * X_3 + 2 * X_4 <= 8\n",
      "Result:\n",
      "Function is unbordered\n",
      "f = inf\n"
     ]
    }
   ],
   "source": [
    "task9 = Task('example9.json')\n",
    "task9.show_task()\n",
    "task9.show_constraints()\n",
    "make_canonical_form(task9)\n",
    "simplex_table9 = SimplexTable(task9)\n",
    "simplex_table9.first_phase()\n",
    "simplex_table9.second_phase()\n",
    "simplex_table9.print_result()"
   ]
  }
 ],
 "metadata": {
  "kernelspec": {
   "display_name": "Python 3",
   "language": "python",
   "name": "python3"
  },
  "language_info": {
   "codemirror_mode": {
    "name": "ipython",
    "version": 3
   },
   "file_extension": ".py",
   "mimetype": "text/x-python",
   "name": "python",
   "nbconvert_exporter": "python",
   "pygments_lexer": "ipython3",
   "version": "3.9.7"
  }
 },
 "nbformat": 4,
 "nbformat_minor": 0
}
